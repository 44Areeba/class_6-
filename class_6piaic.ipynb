{
 "cells": [
  {
   "cell_type": "markdown",
   "id": "acad26cb",
   "metadata": {},
   "source": [
    "# Python Loops\n",
    "# For Loop\n",
    "# While Loop"
   ]
  },
  {
   "cell_type": "code",
   "execution_count": null,
   "id": "2743610b",
   "metadata": {},
   "outputs": [],
   "source": [
    "# reusability\n",
    "#  reduce lines of code\n",
    "# well structures\n"
   ]
  },
  {
   "cell_type": "code",
   "execution_count": 7,
   "id": "fc85dac0",
   "metadata": {},
   "outputs": [
    {
     "name": "stdout",
     "output_type": "stream",
     "text": [
      "Hello World\n",
      "Hello World\n",
      "Hello World\n",
      "Hello World\n",
      "Hello World\n",
      "Hello World\n",
      "Hello World\n",
      "Hello World\n",
      "Hello World\n"
     ]
    }
   ],
   "source": [
    "print(\"Hello World\")\n",
    "print(\"Hello World\")\n",
    "print(\"Hello World\")\n",
    "print(\"Hello World\")\n",
    "print(\"Hello World\")\n",
    "print(\"Hello World\")\n",
    "print(\"Hello World\")\n",
    "print(\"Hello World\")\n",
    "print(\"Hello World\")"
   ]
  },
  {
   "cell_type": "markdown",
   "id": "b7d338e6",
   "metadata": {},
   "source": [
    "For Loop"
   ]
  },
  {
   "cell_type": "code",
   "execution_count": 8,
   "id": "71e1bfd7",
   "metadata": {},
   "outputs": [
    {
     "name": "stdout",
     "output_type": "stream",
     "text": [
      "0 Hello World\n",
      "1 Hello World\n",
      "2 Hello World\n",
      "3 Hello World\n",
      "4 Hello World\n",
      "5 Hello World\n",
      "6 Hello World\n",
      "7 Hello World\n",
      "8 Hello World\n",
      "9 Hello World\n"
     ]
    }
   ],
   "source": [
    "for num in range(10):\n",
    "    print(num,\"Hello World\")"
   ]
  },
  {
   "cell_type": "code",
   "execution_count": 9,
   "id": "d2b623e9",
   "metadata": {},
   "outputs": [
    {
     "name": "stdout",
     "output_type": "stream",
     "text": [
      "1 Hello World\n",
      "2 Hello World\n",
      "3 Hello World\n",
      "4 Hello World\n",
      "5 Hello World\n",
      "6 Hello World\n",
      "7 Hello World\n",
      "8 Hello World\n",
      "9 Hello World\n"
     ]
    }
   ],
   "source": [
    "for num in range(1,10):\n",
    "    print(num,\"Hello World\")"
   ]
  },
  {
   "cell_type": "code",
   "execution_count": 10,
   "id": "5b0fcad4",
   "metadata": {},
   "outputs": [
    {
     "name": "stdout",
     "output_type": "stream",
     "text": [
      "5 Hello World\n",
      "6 Hello World\n",
      "7 Hello World\n",
      "8 Hello World\n",
      "9 Hello World\n"
     ]
    }
   ],
   "source": [
    "for num in range(5,10):\n",
    "    print(num,\"Hello World\")"
   ]
  },
  {
   "cell_type": "code",
   "execution_count": 11,
   "id": "09a45db3",
   "metadata": {},
   "outputs": [
    {
     "name": "stdout",
     "output_type": "stream",
     "text": [
      "1\n",
      "3\n",
      "5\n",
      "7\n",
      "9\n"
     ]
    }
   ],
   "source": [
    "for num in range(1,10,2):#(start,end-1,step)\n",
    "    print(num)"
   ]
  },
  {
   "cell_type": "code",
   "execution_count": 12,
   "id": "092ef453",
   "metadata": {},
   "outputs": [
    {
     "name": "stdout",
     "output_type": "stream",
     "text": [
      "0\n",
      "2\n",
      "4\n",
      "6\n",
      "8\n"
     ]
    }
   ],
   "source": [
    "for num in range(0,10,2):\n",
    "    print(num)"
   ]
  },
  {
   "cell_type": "code",
   "execution_count": 13,
   "id": "627aecb8",
   "metadata": {},
   "outputs": [
    {
     "name": "stdout",
     "output_type": "stream",
     "text": [
      "0\n",
      "2\n",
      "4\n",
      "6\n",
      "8\n",
      "10\n",
      "12\n",
      "14\n",
      "16\n",
      "18\n",
      "20\n"
     ]
    }
   ],
   "source": [
    "for num in range(0,22,2):\n",
    "    print(num)"
   ]
  },
  {
   "cell_type": "code",
   "execution_count": 14,
   "id": "eb349e26",
   "metadata": {},
   "outputs": [
    {
     "name": "stdout",
     "output_type": "stream",
     "text": [
      "10\n",
      "8\n",
      "6\n",
      "4\n",
      "2\n"
     ]
    }
   ],
   "source": [
    "for num in range(10,0,-2):\n",
    "    print(num)"
   ]
  },
  {
   "cell_type": "code",
   "execution_count": 15,
   "id": "5c3d77a7",
   "metadata": {},
   "outputs": [
    {
     "name": "stdout",
     "output_type": "stream",
     "text": [
      "P\n",
      "a\n",
      "k\n",
      "i\n",
      "s\n",
      "t\n",
      "a\n",
      "n\n"
     ]
    }
   ],
   "source": [
    "for char in \"Pakistan\":\n",
    "    print(char)"
   ]
  },
  {
   "cell_type": "code",
   "execution_count": 16,
   "id": "58f8cef3",
   "metadata": {},
   "outputs": [
    {
     "name": "stdout",
     "output_type": "stream",
     "text": [
      "KEYBOARD\n",
      "MOUSE\n",
      "HEADPHONE\n",
      "MONITOR\n",
      "PEN\n",
      "NOTEBOOK\n"
     ]
    }
   ],
   "source": [
    "for item in[\"Keyboard\",\"Mouse\",\"Headphone\",\"Monitor\",\"Pen\",\"Notebook\"]:\n",
    "    print(item.upper())"
   ]
  },
  {
   "cell_type": "code",
   "execution_count": 17,
   "id": "9c5e3345",
   "metadata": {},
   "outputs": [
    {
     "ename": "TypeError",
     "evalue": "'int' object is not iterable",
     "output_type": "error",
     "traceback": [
      "\u001b[1;31m---------------------------------------------------------------------------\u001b[0m",
      "\u001b[1;31mTypeError\u001b[0m                                 Traceback (most recent call last)",
      "\u001b[1;32m<ipython-input-17-327aa7fbb781>\u001b[0m in \u001b[0;36m<module>\u001b[1;34m\u001b[0m\n\u001b[1;32m----> 1\u001b[1;33m \u001b[1;32mfor\u001b[0m \u001b[0mnum\u001b[0m \u001b[1;32min\u001b[0m \u001b[1;36m5007\u001b[0m\u001b[1;33m:\u001b[0m\u001b[1;33m\u001b[0m\u001b[1;33m\u001b[0m\u001b[0m\n\u001b[0m\u001b[0;32m      2\u001b[0m     \u001b[0mprint\u001b[0m\u001b[1;33m(\u001b[0m\u001b[0mnum\u001b[0m\u001b[1;33m)\u001b[0m\u001b[1;33m\u001b[0m\u001b[1;33m\u001b[0m\u001b[0m\n",
      "\u001b[1;31mTypeError\u001b[0m: 'int' object is not iterable"
     ]
    }
   ],
   "source": [
    "for num in 5007:\n",
    "    print(num)"
   ]
  },
  {
   "cell_type": "code",
   "execution_count": 18,
   "id": "aa8e1bcf",
   "metadata": {},
   "outputs": [],
   "source": [
    "items=[\"Keyboard\",\"Mouse\",\"Headphone\",\"Monitor\",\"Pen\",\"Notebook\"]"
   ]
  },
  {
   "cell_type": "code",
   "execution_count": 19,
   "id": "18d1efcc",
   "metadata": {},
   "outputs": [
    {
     "name": "stdout",
     "output_type": "stream",
     "text": [
      "NOTEBOOK\n",
      "PEN\n",
      "MONITOR\n",
      "HEADPHONE\n",
      "MOUSE\n",
      "KEYBOARD\n"
     ]
    }
   ],
   "source": [
    "for item in items[::-1]:\n",
    "    print(item.upper())"
   ]
  },
  {
   "cell_type": "code",
   "execution_count": 20,
   "id": "a8d0b6bd",
   "metadata": {},
   "outputs": [
    {
     "name": "stdout",
     "output_type": "stream",
     "text": [
      "KEYBOARD\n",
      "MOUSE\n",
      "HEADPHONE\n",
      "MONITOR\n"
     ]
    }
   ],
   "source": [
    "for item in items[:-2]:\n",
    "    print(item.upper())"
   ]
  },
  {
   "cell_type": "code",
   "execution_count": 21,
   "id": "53afcf61",
   "metadata": {},
   "outputs": [
    {
     "name": "stdout",
     "output_type": "stream",
     "text": [
      "PEN\n",
      "NOTEBOOK\n"
     ]
    }
   ],
   "source": [
    "for item in items[-2:]:\n",
    "    print(item.upper())"
   ]
  },
  {
   "cell_type": "code",
   "execution_count": 22,
   "id": "7be0a073",
   "metadata": {},
   "outputs": [],
   "source": [
    "items=[\"Bag\",\"Ball\",\"Cap\",\"Copy\",\"Knife\",\"Keyboard\",\"Mouse\",\"Monitor\",\"Headphone\",\"Pen\",\"Notebook\"]"
   ]
  },
  {
   "cell_type": "code",
   "execution_count": 23,
   "id": "ad854c15",
   "metadata": {},
   "outputs": [
    {
     "name": "stdout",
     "output_type": "stream",
     "text": [
      "Knife\n",
      "Mouse\n",
      "Headphone\n"
     ]
    }
   ],
   "source": [
    "for item in items:\n",
    "    if item.endswith(\"e\"):\n",
    "        print(item)"
   ]
  },
  {
   "cell_type": "code",
   "execution_count": 25,
   "id": "718e4682",
   "metadata": {},
   "outputs": [
    {
     "name": "stdout",
     "output_type": "stream",
     "text": [
      "Headphone\n"
     ]
    }
   ],
   "source": [
    "for item in items:\n",
    "    if(item[-1]==\"e\")and (len(item)>5):\n",
    "        print(item)"
   ]
  },
  {
   "cell_type": "code",
   "execution_count": 26,
   "id": "3db6766c",
   "metadata": {},
   "outputs": [
    {
     "data": {
      "text/plain": [
       "['Bag',\n",
       " 'Ball',\n",
       " 'Cap',\n",
       " 'Copy',\n",
       " 'Knife',\n",
       " 'Keyboard',\n",
       " 'Mouse',\n",
       " 'Monitor',\n",
       " 'Headphone',\n",
       " 'Pen',\n",
       " 'Notebook']"
      ]
     },
     "execution_count": 26,
     "metadata": {},
     "output_type": "execute_result"
    }
   ],
   "source": [
    "items"
   ]
  },
  {
   "cell_type": "code",
   "execution_count": 27,
   "id": "485864be",
   "metadata": {},
   "outputs": [
    {
     "name": "stdout",
     "output_type": "stream",
     "text": [
      "Bag\n",
      "Ball\n",
      "Cap\n",
      "Copy\n",
      "Knife\n",
      "Mouse\n",
      "Headphone\n",
      "Pen\n"
     ]
    }
   ],
   "source": [
    "for item in items:\n",
    "    if(item[-1]=='e')or(len(item)<5):\n",
    "        print(item)"
   ]
  },
  {
   "cell_type": "code",
   "execution_count": null,
   "id": "f12e27e1",
   "metadata": {},
   "outputs": [],
   "source": [
    "#Task: we need to make a list of 50 friends to invite in a party take friends name as input and add in guest list"
   ]
  },
  {
   "cell_type": "code",
   "execution_count": 28,
   "id": "e4164398",
   "metadata": {},
   "outputs": [
    {
     "name": "stdout",
     "output_type": "stream",
     "text": [
      "Enter your friend name a\n",
      "Enter your friend name b\n",
      "Enter your friend name c\n",
      "Enter your friend name d\n",
      "Enter your friend name e\n",
      "Enter your friend name f\n"
     ]
    }
   ],
   "source": [
    "f1=input(\"Enter your friend name \")\n",
    "f2=input(\"Enter your friend name \")\n",
    "f3=input(\"Enter your friend name \")\n",
    "f4=input(\"Enter your friend name \")\n",
    "f5=input(\"Enter your friend name \")\n",
    "f6=input(\"Enter your friend name \")\n",
    "guest_list=[f1,f2,f3,f4,f5,f6]"
   ]
  },
  {
   "cell_type": "code",
   "execution_count": 29,
   "id": "b3f4576e",
   "metadata": {},
   "outputs": [
    {
     "name": "stdout",
     "output_type": "stream",
     "text": [
      "Enter your friends name ali\n",
      "Enter your friends name wardah\n",
      "Enter your friends name ansar\n",
      "Enter your friends name dua\n",
      "Enter your friends name aiman\n"
     ]
    }
   ],
   "source": [
    "guest=[]\n",
    "for a in range(5):\n",
    "    friend=input(\"Enter your friends name \")\n",
    "    guest.append(friend)"
   ]
  },
  {
   "cell_type": "code",
   "execution_count": 30,
   "id": "a0b5481a",
   "metadata": {},
   "outputs": [
    {
     "data": {
      "text/plain": [
       "['ali', 'wardah', 'ansar', 'dua', 'aiman']"
      ]
     },
     "execution_count": 30,
     "metadata": {},
     "output_type": "execute_result"
    }
   ],
   "source": [
    "guest"
   ]
  },
  {
   "cell_type": "markdown",
   "id": "821c2b6c",
   "metadata": {},
   "source": [
    "#Break,Continue"
   ]
  },
  {
   "cell_type": "code",
   "execution_count": 33,
   "id": "9b7aa9bd",
   "metadata": {},
   "outputs": [
    {
     "name": "stdout",
     "output_type": "stream",
     "text": [
      "0\n",
      "1\n",
      "2\n",
      "3\n",
      "4\n"
     ]
    }
   ],
   "source": [
    "for a in range(10):\n",
    "    if a==5:\n",
    "        break\n",
    "    print(a)"
   ]
  },
  {
   "cell_type": "code",
   "execution_count": 34,
   "id": "38b200a9",
   "metadata": {},
   "outputs": [
    {
     "name": "stdout",
     "output_type": "stream",
     "text": [
      "0\n",
      "1\n",
      "2\n",
      "3\n",
      "4\n",
      "5\n"
     ]
    }
   ],
   "source": [
    "for a in range(10):\n",
    "    print(a)\n",
    "    if a==5:\n",
    "        break"
   ]
  },
  {
   "cell_type": "code",
   "execution_count": 37,
   "id": "fc09bb4c",
   "metadata": {},
   "outputs": [
    {
     "name": "stdout",
     "output_type": "stream",
     "text": [
      "0\n",
      "1\n",
      "2\n",
      "3\n",
      "4\n",
      "6\n",
      "7\n",
      "8\n",
      "9\n"
     ]
    }
   ],
   "source": [
    "for a in range(10):\n",
    "    if a==5:\n",
    "        continue\n",
    "    print(a)"
   ]
  },
  {
   "cell_type": "code",
   "execution_count": null,
   "id": "215dc68c",
   "metadata": {},
   "outputs": [],
   "source": [
    "#task: take 10 integers as input and find the sum of all integers supplied. "
   ]
  },
  {
   "cell_type": "code",
   "execution_count": 38,
   "id": "1ad7eea1",
   "metadata": {},
   "outputs": [
    {
     "name": "stdout",
     "output_type": "stream",
     "text": [
      "Enter a number of your choice1\n",
      "1\n",
      "Enter a number of your choice2\n",
      "3\n",
      "Enter a number of your choice3\n",
      "6\n",
      "Enter a number of your choice4\n",
      "10\n",
      "Enter a number of your choice5\n",
      "15\n",
      "Enter a number of your choice6\n",
      "21\n",
      "Enter a number of your choice7\n",
      "28\n",
      "Enter a number of your choice8\n",
      "36\n",
      "Enter a number of your choice9\n",
      "45\n",
      "Enter a number of your choice10\n",
      "55\n"
     ]
    }
   ],
   "source": [
    "tot=0\n",
    "for a in range(10):\n",
    "    num=int(input(\"Enter a number of your choice\"))\n",
    "    tot+=num\n",
    "    print(tot)"
   ]
  },
  {
   "cell_type": "code",
   "execution_count": 49,
   "id": "1ffaa4ec",
   "metadata": {},
   "outputs": [
    {
     "name": "stdout",
     "output_type": "stream",
     "text": [
      "Enter a number of your choice comma seperated55,7743,23,1,5,8\n"
     ]
    }
   ],
   "source": [
    "a=input(\"Enter a number of your choice comma seperated\").split(\",\")"
   ]
  },
  {
   "cell_type": "code",
   "execution_count": 50,
   "id": "34294107",
   "metadata": {},
   "outputs": [
    {
     "data": {
      "text/plain": [
       "['55', '7743', '23', '1', '5', '8']"
      ]
     },
     "execution_count": 50,
     "metadata": {},
     "output_type": "execute_result"
    }
   ],
   "source": [
    "a"
   ]
  },
  {
   "cell_type": "code",
   "execution_count": 51,
   "id": "ae964585",
   "metadata": {},
   "outputs": [
    {
     "name": "stdout",
     "output_type": "stream",
     "text": [
      "Enter a number of your choice comma seperated11,55,88,7,8,9,6,5,77\n"
     ]
    },
    {
     "data": {
      "text/plain": [
       "266"
      ]
     },
     "execution_count": 51,
     "metadata": {},
     "output_type": "execute_result"
    }
   ],
   "source": [
    "a=input(\"Enter a number of your choice comma seperated\").split(\",\")\n",
    "tot=0\n",
    "for num in a:\n",
    "    tot +=int(num)\n",
    "    \n",
    "tot    "
   ]
  },
  {
   "cell_type": "markdown",
   "id": "bbb54c1c",
   "metadata": {},
   "source": [
    "### While Loop ###"
   ]
  },
  {
   "cell_type": "code",
   "execution_count": 52,
   "id": "0def4b5f",
   "metadata": {},
   "outputs": [
    {
     "name": "stdout",
     "output_type": "stream",
     "text": [
      "0\n",
      "1\n",
      "2\n",
      "3\n",
      "4\n",
      "5\n",
      "6\n",
      "7\n",
      "8\n",
      "9\n"
     ]
    }
   ],
   "source": [
    "a=0\n",
    "while a<10:\n",
    "    print(a)\n",
    "    a+=1"
   ]
  },
  {
   "cell_type": "code",
   "execution_count": 53,
   "id": "6aace1e7",
   "metadata": {},
   "outputs": [
    {
     "name": "stdout",
     "output_type": "stream",
     "text": [
      "10\n",
      "9\n",
      "8\n",
      "7\n",
      "6\n",
      "5\n",
      "4\n",
      "3\n",
      "2\n",
      "1\n",
      "0\n"
     ]
    }
   ],
   "source": [
    "a=10\n",
    "while a>=0:\n",
    "    print(a)\n",
    "    a-=1"
   ]
  },
  {
   "cell_type": "code",
   "execution_count": 54,
   "id": "f81598d7",
   "metadata": {},
   "outputs": [
    {
     "name": "stdout",
     "output_type": "stream",
     "text": [
      "Enter  a guest name or presss q to exitmaryam\n",
      "Enter  a guest name or presss q to exithina\n",
      "Enter  a guest name or presss q to exitsana\n",
      "Enter  a guest name or presss q to exitwania\n",
      "Enter  a guest name or presss q to exitq\n"
     ]
    },
    {
     "data": {
      "text/plain": [
       "['maryam', 'hina', 'sana', 'wania']"
      ]
     },
     "execution_count": 54,
     "metadata": {},
     "output_type": "execute_result"
    }
   ],
   "source": [
    "myguests=[]\n",
    "flag=True\n",
    "while flag:\n",
    "    guestName=input(\"Enter  a guest name or presss q to exit \")\n",
    "    if guestName==\"q\":\n",
    "        flag=False\n",
    "    else:\n",
    "        myguests.append(guestName)\n",
    "        \n",
    "myguests        "
   ]
  },
  {
   "cell_type": "markdown",
   "id": "ed6f3b15",
   "metadata": {},
   "source": [
    "### List Comprehension ###"
   ]
  },
  {
   "cell_type": "code",
   "execution_count": 55,
   "id": "d45a6641",
   "metadata": {},
   "outputs": [
    {
     "data": {
      "text/plain": [
       "[0, 2, 4, 6, 8, 10, 12, 14, 16, 18]"
      ]
     },
     "execution_count": 55,
     "metadata": {},
     "output_type": "execute_result"
    }
   ],
   "source": [
    "evens=[]\n",
    "for num in range(20):\n",
    "    if num%2==0:\n",
    "        evens.append(num)\n",
    "evens        "
   ]
  },
  {
   "cell_type": "code",
   "execution_count": 56,
   "id": "2bd4a469",
   "metadata": {},
   "outputs": [
    {
     "data": {
      "text/plain": [
       "[0, 2, 4, 6, 8, 10, 12, 14, 16, 18]"
      ]
     },
     "execution_count": 56,
     "metadata": {},
     "output_type": "execute_result"
    }
   ],
   "source": [
    "[num for num in range(20) if num%2==0]"
   ]
  },
  {
   "cell_type": "code",
   "execution_count": 58,
   "id": "2da1b4df",
   "metadata": {},
   "outputs": [
    {
     "data": {
      "text/plain": [
       "[1, 3, 5, 7, 9, 11, 13, 15, 17, 19]"
      ]
     },
     "execution_count": 58,
     "metadata": {},
     "output_type": "execute_result"
    }
   ],
   "source": [
    "odds=[]\n",
    "for num in range(20):\n",
    "    if num%2!=0:\n",
    "        odds.append(num)\n",
    "odds        "
   ]
  },
  {
   "cell_type": "code",
   "execution_count": 59,
   "id": "bdadeb8e",
   "metadata": {},
   "outputs": [
    {
     "data": {
      "text/plain": [
       "[1, 3, 5, 7, 9, 11, 13, 15, 17, 19]"
      ]
     },
     "execution_count": 59,
     "metadata": {},
     "output_type": "execute_result"
    }
   ],
   "source": [
    "[num for num in range(20) if num%2!=0]"
   ]
  },
  {
   "cell_type": "code",
   "execution_count": null,
   "id": "2d015aab",
   "metadata": {},
   "outputs": [],
   "source": [
    "# if else in list comprehension"
   ]
  },
  {
   "cell_type": "code",
   "execution_count": 60,
   "id": "8f6882f9",
   "metadata": {},
   "outputs": [
    {
     "data": {
      "text/plain": [
       "['0is even',\n",
       " '1is odd',\n",
       " '2is even',\n",
       " '3is odd',\n",
       " '4is even',\n",
       " '5is odd',\n",
       " '6is even',\n",
       " '7is odd',\n",
       " '8is even',\n",
       " '9is odd',\n",
       " '10is even',\n",
       " '11is odd',\n",
       " '12is even',\n",
       " '13is odd',\n",
       " '14is even',\n",
       " '15is odd',\n",
       " '16is even',\n",
       " '17is odd',\n",
       " '18is even',\n",
       " '19is odd']"
      ]
     },
     "execution_count": 60,
     "metadata": {},
     "output_type": "execute_result"
    }
   ],
   "source": [
    "[f\"{n}is even\" if n%2==0 else f\"{n}is odd\" for n in range(20)]"
   ]
  },
  {
   "cell_type": "markdown",
   "id": "1a829856",
   "metadata": {},
   "source": [
    "### Nested For Loop ###"
   ]
  },
  {
   "cell_type": "code",
   "execution_count": 61,
   "id": "2ca0b073",
   "metadata": {},
   "outputs": [
    {
     "name": "stdout",
     "output_type": "stream",
     "text": [
      "2*1=2\n",
      "2*2=4\n",
      "2*3=6\n",
      "2*4=8\n",
      "2*5=10\n",
      "2*6=12\n",
      "2*7=14\n",
      "2*8=16\n",
      "2*9=18\n",
      "2*10=20\n",
      "3*1=3\n",
      "3*2=6\n",
      "3*3=9\n",
      "3*4=12\n",
      "3*5=15\n",
      "3*6=18\n",
      "3*7=21\n",
      "3*8=24\n",
      "3*9=27\n",
      "3*10=30\n",
      "4*1=4\n",
      "4*2=8\n",
      "4*3=12\n",
      "4*4=16\n",
      "4*5=20\n",
      "4*6=24\n",
      "4*7=28\n",
      "4*8=32\n",
      "4*9=36\n",
      "4*10=40\n",
      "5*1=5\n",
      "5*2=10\n",
      "5*3=15\n",
      "5*4=20\n",
      "5*5=25\n",
      "5*6=30\n",
      "5*7=35\n",
      "5*8=40\n",
      "5*9=45\n",
      "5*10=50\n",
      "6*1=6\n",
      "6*2=12\n",
      "6*3=18\n",
      "6*4=24\n",
      "6*5=30\n",
      "6*6=36\n",
      "6*7=42\n",
      "6*8=48\n",
      "6*9=54\n",
      "6*10=60\n",
      "7*1=7\n",
      "7*2=14\n",
      "7*3=21\n",
      "7*4=28\n",
      "7*5=35\n",
      "7*6=42\n",
      "7*7=49\n",
      "7*8=56\n",
      "7*9=63\n",
      "7*10=70\n",
      "8*1=8\n",
      "8*2=16\n",
      "8*3=24\n",
      "8*4=32\n",
      "8*5=40\n",
      "8*6=48\n",
      "8*7=56\n",
      "8*8=64\n",
      "8*9=72\n",
      "8*10=80\n",
      "9*1=9\n",
      "9*2=18\n",
      "9*3=27\n",
      "9*4=36\n",
      "9*5=45\n",
      "9*6=54\n",
      "9*7=63\n",
      "9*8=72\n",
      "9*9=81\n",
      "9*10=90\n"
     ]
    }
   ],
   "source": [
    "for table_num in range(2,10):\n",
    "    for num in range(1,11):\n",
    "        print(f\"{table_num}*{num}={table_num*num}\")"
   ]
  },
  {
   "cell_type": "code",
   "execution_count": 62,
   "id": "ad703d40",
   "metadata": {},
   "outputs": [
    {
     "data": {
      "text/plain": [
       "[(0, 'A'),\n",
       " (0, 'B'),\n",
       " (0, 'C'),\n",
       " (1, 'A'),\n",
       " (1, 'B'),\n",
       " (1, 'C'),\n",
       " (2, 'A'),\n",
       " (2, 'B'),\n",
       " (2, 'C')]"
      ]
     },
     "execution_count": 62,
     "metadata": {},
     "output_type": "execute_result"
    }
   ],
   "source": [
    "[(x,y) for x in range(3) for y in 'ABC']"
   ]
  },
  {
   "cell_type": "code",
   "execution_count": 63,
   "id": "3329df33",
   "metadata": {},
   "outputs": [
    {
     "data": {
      "text/plain": [
       "[(1, 'A'), (1, 'B'), (1, 'C'), (2, 'A'), (2, 'B'), (2, 'C')]"
      ]
     },
     "execution_count": 63,
     "metadata": {},
     "output_type": "execute_result"
    }
   ],
   "source": [
    "[(x,y) for x in range(3) for y in 'ABC' if x>0]"
   ]
  },
  {
   "cell_type": "code",
   "execution_count": 64,
   "id": "c36f9b45",
   "metadata": {},
   "outputs": [
    {
     "data": {
      "text/plain": [
       "[1,\n",
       " 2,\n",
       " 3,\n",
       " 4,\n",
       " 6,\n",
       " 8,\n",
       " 9,\n",
       " 11,\n",
       " 12,\n",
       " 13,\n",
       " 16,\n",
       " 17,\n",
       " 18,\n",
       " 19,\n",
       " 22,\n",
       " 23,\n",
       " 24,\n",
       " 26,\n",
       " 27,\n",
       " 29,\n",
       " 31,\n",
       " 32,\n",
       " 33,\n",
       " 34,\n",
       " 36,\n",
       " 37,\n",
       " 38,\n",
       " 39,\n",
       " 41,\n",
       " 43,\n",
       " 44,\n",
       " 46,\n",
       " 47,\n",
       " 48,\n",
       " 51,\n",
       " 52,\n",
       " 53,\n",
       " 54,\n",
       " 57,\n",
       " 58,\n",
       " 59,\n",
       " 61,\n",
       " 62,\n",
       " 64,\n",
       " 66,\n",
       " 67,\n",
       " 68,\n",
       " 69,\n",
       " 71,\n",
       " 72,\n",
       " 73,\n",
       " 74,\n",
       " 76,\n",
       " 78,\n",
       " 79,\n",
       " 81,\n",
       " 82,\n",
       " 83,\n",
       " 86,\n",
       " 87,\n",
       " 88,\n",
       " 89,\n",
       " 92,\n",
       " 93,\n",
       " 94,\n",
       " 96,\n",
       " 97,\n",
       " 99]"
      ]
     },
     "execution_count": 64,
     "metadata": {},
     "output_type": "execute_result"
    }
   ],
   "source": [
    "[a for a in range(1,100) if ((a%7!=0) and (a%5!=0))]"
   ]
  },
  {
   "cell_type": "code",
   "execution_count": null,
   "id": "f54a176f",
   "metadata": {},
   "outputs": [],
   "source": [
    "#make a list of squares of first 10 natural number"
   ]
  },
  {
   "cell_type": "code",
   "execution_count": 65,
   "id": "67717bba",
   "metadata": {},
   "outputs": [
    {
     "data": {
      "text/plain": [
       "[1, 4, 9, 16, 25, 36, 49, 64, 81, 100]"
      ]
     },
     "execution_count": 65,
     "metadata": {},
     "output_type": "execute_result"
    }
   ],
   "source": [
    "[a**2 for a in range(1,11)]"
   ]
  },
  {
   "cell_type": "code",
   "execution_count": 66,
   "id": "23a1bca7",
   "metadata": {},
   "outputs": [
    {
     "data": {
      "text/plain": [
       "[1.0,\n",
       " 1.4142135623730951,\n",
       " 1.7320508075688772,\n",
       " 2.0,\n",
       " 2.23606797749979,\n",
       " 2.449489742783178,\n",
       " 2.6457513110645907,\n",
       " 2.8284271247461903,\n",
       " 3.0,\n",
       " 3.1622776601683795]"
      ]
     },
     "execution_count": 66,
     "metadata": {},
     "output_type": "execute_result"
    }
   ],
   "source": [
    "[a**.5 for a in range(1,11)]"
   ]
  },
  {
   "cell_type": "markdown",
   "id": "f4551ad9",
   "metadata": {},
   "source": [
    "### Dictionary ####"
   ]
  },
  {
   "cell_type": "code",
   "execution_count": 3,
   "id": "2080c858",
   "metadata": {},
   "outputs": [],
   "source": [
    "adict= {}\n",
    "aset= {}\n"
   ]
  },
  {
   "cell_type": "code",
   "execution_count": 4,
   "id": "57fe417f",
   "metadata": {},
   "outputs": [
    {
     "data": {
      "text/plain": [
       "dict"
      ]
     },
     "execution_count": 4,
     "metadata": {},
     "output_type": "execute_result"
    }
   ],
   "source": [
    "type(adict)"
   ]
  },
  {
   "cell_type": "code",
   "execution_count": 5,
   "id": "e3d42a26",
   "metadata": {},
   "outputs": [
    {
     "data": {
      "text/plain": [
       "dict"
      ]
     },
     "execution_count": 5,
     "metadata": {},
     "output_type": "execute_result"
    }
   ],
   "source": [
    "type(aset)"
   ]
  },
  {
   "cell_type": "code",
   "execution_count": 6,
   "id": "fa03502d",
   "metadata": {},
   "outputs": [
    {
     "data": {
      "text/plain": [
       "set"
      ]
     },
     "execution_count": 6,
     "metadata": {},
     "output_type": "execute_result"
    }
   ],
   "source": [
    "aset={4}\n",
    "type(aset)"
   ]
  },
  {
   "cell_type": "code",
   "execution_count": 8,
   "id": "bdb8fc42",
   "metadata": {},
   "outputs": [],
   "source": [
    "# A dictionary has  a key value pair\n",
    "student1={'name':\"Areeba\",'roll':1234,'email':\"areebanazkhan44@gmail.com\",'name':\"Maryam\"}"
   ]
  },
  {
   "cell_type": "code",
   "execution_count": 9,
   "id": "43034c42",
   "metadata": {},
   "outputs": [
    {
     "data": {
      "text/plain": [
       "{'name': 'Maryam', 'roll': 1234, 'email': 'areebanazkhan44@gmail.com'}"
      ]
     },
     "execution_count": 9,
     "metadata": {},
     "output_type": "execute_result"
    }
   ],
   "source": [
    "student1"
   ]
  },
  {
   "cell_type": "code",
   "execution_count": 10,
   "id": "c29d56b1",
   "metadata": {},
   "outputs": [
    {
     "data": {
      "text/plain": [
       "1234"
      ]
     },
     "execution_count": 10,
     "metadata": {},
     "output_type": "execute_result"
    }
   ],
   "source": [
    "student1['roll']"
   ]
  },
  {
   "cell_type": "code",
   "execution_count": 14,
   "id": "987e69f6",
   "metadata": {},
   "outputs": [
    {
     "data": {
      "text/plain": [
       "'areebanazkhan44@gmail.com'"
      ]
     },
     "execution_count": 14,
     "metadata": {},
     "output_type": "execute_result"
    }
   ],
   "source": [
    "student1['email']"
   ]
  },
  {
   "cell_type": "code",
   "execution_count": 18,
   "id": "35471928",
   "metadata": {},
   "outputs": [
    {
     "data": {
      "text/plain": [
       "{'name': 'Maryam', 'roll': 1234, 'email': 'areebanazkhan44@gmail.com'}"
      ]
     },
     "execution_count": 18,
     "metadata": {},
     "output_type": "execute_result"
    }
   ],
   "source": [
    "student1"
   ]
  },
  {
   "cell_type": "code",
   "execution_count": 12,
   "id": "5072e091",
   "metadata": {},
   "outputs": [],
   "source": [
    "#add new members/new key in existing dict"
   ]
  },
  {
   "cell_type": "code",
   "execution_count": 19,
   "id": "93e60c3f",
   "metadata": {},
   "outputs": [],
   "source": [
    "student1['father']=\"Hassan\""
   ]
  },
  {
   "cell_type": "code",
   "execution_count": 20,
   "id": "261f1f29",
   "metadata": {},
   "outputs": [
    {
     "data": {
      "text/plain": [
       "{'name': 'Maryam',\n",
       " 'roll': 1234,\n",
       " 'email': 'areebanazkhan44@gmail.com',\n",
       " 'father': 'Hassan'}"
      ]
     },
     "execution_count": 20,
     "metadata": {},
     "output_type": "execute_result"
    }
   ],
   "source": [
    "student1"
   ]
  },
  {
   "cell_type": "code",
   "execution_count": 21,
   "id": "fa3a8398",
   "metadata": {},
   "outputs": [
    {
     "name": "stdout",
     "output_type": "stream",
     "text": [
      "name\n",
      "roll\n",
      "email\n",
      "father\n"
     ]
    }
   ],
   "source": [
    "# if we iterate directly on dictionary it will return keys only\n",
    "for a in student1:\n",
    "    print(a)"
   ]
  },
  {
   "cell_type": "code",
   "execution_count": 22,
   "id": "9375d9bd",
   "metadata": {},
   "outputs": [
    {
     "name": "stdout",
     "output_type": "stream",
     "text": [
      "name\n",
      "roll\n",
      "email\n",
      "father\n"
     ]
    }
   ],
   "source": [
    "# if we iterate on dictionary.keys() it will return keys\n",
    "\n",
    "for a in student1.keys():\n",
    "    print(a)"
   ]
  },
  {
   "cell_type": "code",
   "execution_count": 23,
   "id": "7fc9ad48",
   "metadata": {},
   "outputs": [
    {
     "name": "stdout",
     "output_type": "stream",
     "text": [
      "name Maryam\n",
      "roll 1234\n",
      "email areebanazkhan44@gmail.com\n",
      "father Hassan\n"
     ]
    }
   ],
   "source": [
    "#we can get values by keys\n",
    "for a in student1.keys():\n",
    "    print(a,student1[a])"
   ]
  },
  {
   "cell_type": "code",
   "execution_count": 24,
   "id": "78aa7f06",
   "metadata": {},
   "outputs": [
    {
     "name": "stdout",
     "output_type": "stream",
     "text": [
      "Maryam\n",
      "1234\n",
      "areebanazkhan44@gmail.com\n",
      "Hassan\n"
     ]
    }
   ],
   "source": [
    "#we can get values against keys by get()\n",
    "for a in student1.keys():\n",
    "    print(student1.get(a))"
   ]
  },
  {
   "cell_type": "code",
   "execution_count": 25,
   "id": "76b4310d",
   "metadata": {},
   "outputs": [
    {
     "name": "stdout",
     "output_type": "stream",
     "text": [
      "Maryam\n",
      "1234\n",
      "areebanazkhan44@gmail.com\n",
      "Hassan\n"
     ]
    }
   ],
   "source": [
    "# we  can get values directly\n",
    "for vals in student1.values():\n",
    "    print(vals)"
   ]
  },
  {
   "cell_type": "code",
   "execution_count": 26,
   "id": "fb085ac1",
   "metadata": {},
   "outputs": [],
   "source": [
    "#if we store more than a value in asingle variable without mentioning any of the collection name it will be stored in form of atuple"
   ]
  },
  {
   "cell_type": "code",
   "execution_count": 27,
   "id": "fb992167",
   "metadata": {},
   "outputs": [
    {
     "data": {
      "text/plain": [
       "(12, 13)"
      ]
     },
     "execution_count": 27,
     "metadata": {},
     "output_type": "execute_result"
    }
   ],
   "source": [
    "a=12,13\n",
    "a"
   ]
  },
  {
   "cell_type": "code",
   "execution_count": 28,
   "id": "3ea3ea86",
   "metadata": {},
   "outputs": [],
   "source": [
    "a=[12,13]#packing\n",
    "x,y=a  #unpacking"
   ]
  },
  {
   "cell_type": "code",
   "execution_count": 29,
   "id": "2f5204e5",
   "metadata": {},
   "outputs": [
    {
     "data": {
      "text/plain": [
       "12"
      ]
     },
     "execution_count": 29,
     "metadata": {},
     "output_type": "execute_result"
    }
   ],
   "source": [
    "x"
   ]
  },
  {
   "cell_type": "code",
   "execution_count": 30,
   "id": "b96227ad",
   "metadata": {},
   "outputs": [
    {
     "data": {
      "text/plain": [
       "13"
      ]
     },
     "execution_count": 30,
     "metadata": {},
     "output_type": "execute_result"
    }
   ],
   "source": [
    "y"
   ]
  },
  {
   "cell_type": "code",
   "execution_count": 32,
   "id": "9f3d92ac",
   "metadata": {},
   "outputs": [
    {
     "name": "stdout",
     "output_type": "stream",
     "text": [
      "('name', 'Maryam')\n",
      "('roll', 1234)\n",
      "('email', 'areebanazkhan44@gmail.com')\n",
      "('father', 'Hassan')\n"
     ]
    }
   ],
   "source": [
    "#if we need key and value together\n",
    "for a in student1.items():\n",
    "    print(a)"
   ]
  },
  {
   "cell_type": "code",
   "execution_count": 33,
   "id": "ba8e8038",
   "metadata": {},
   "outputs": [
    {
     "name": "stdout",
     "output_type": "stream",
     "text": [
      "name Maryam\n",
      "roll 1234\n",
      "email areebanazkhan44@gmail.com\n",
      "father Hassan\n"
     ]
    }
   ],
   "source": [
    "for k,v in student1.items():\n",
    "    print(k,v)"
   ]
  },
  {
   "cell_type": "code",
   "execution_count": 34,
   "id": "19eebc99",
   "metadata": {},
   "outputs": [],
   "source": [
    "atuple=(\"mangoes\",\"oranges\",\"bananas\")\n",
    "#packing"
   ]
  },
  {
   "cell_type": "code",
   "execution_count": 35,
   "id": "55516ba4",
   "metadata": {},
   "outputs": [],
   "source": [
    "ali,ahmed,faizan=atuple\n",
    "#unpacking"
   ]
  },
  {
   "cell_type": "code",
   "execution_count": 36,
   "id": "46785b9e",
   "metadata": {},
   "outputs": [
    {
     "data": {
      "text/plain": [
       "12"
      ]
     },
     "execution_count": 36,
     "metadata": {},
     "output_type": "execute_result"
    }
   ],
   "source": [
    "__"
   ]
  },
  {
   "cell_type": "code",
   "execution_count": 39,
   "id": "76612f62",
   "metadata": {},
   "outputs": [
    {
     "data": {
      "text/plain": [
       "'oranges'"
      ]
     },
     "execution_count": 39,
     "metadata": {},
     "output_type": "execute_result"
    }
   ],
   "source": [
    "ahmed"
   ]
  },
  {
   "cell_type": "code",
   "execution_count": 41,
   "id": "8487d370",
   "metadata": {},
   "outputs": [
    {
     "data": {
      "text/plain": [
       "'bananas'"
      ]
     },
     "execution_count": 41,
     "metadata": {},
     "output_type": "execute_result"
    }
   ],
   "source": [
    "faizan"
   ]
  },
  {
   "cell_type": "code",
   "execution_count": null,
   "id": "56ca8ed6",
   "metadata": {},
   "outputs": [],
   "source": []
  }
 ],
 "metadata": {
  "kernelspec": {
   "display_name": "Python 3",
   "language": "python",
   "name": "python3"
  },
  "language_info": {
   "codemirror_mode": {
    "name": "ipython",
    "version": 3
   },
   "file_extension": ".py",
   "mimetype": "text/x-python",
   "name": "python",
   "nbconvert_exporter": "python",
   "pygments_lexer": "ipython3",
   "version": "3.8.8"
  }
 },
 "nbformat": 4,
 "nbformat_minor": 5
}
